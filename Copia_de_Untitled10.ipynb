{
  "nbformat": 4,
  "nbformat_minor": 0,
  "metadata": {
    "colab": {
      "provenance": [],
      "authorship_tag": "ABX9TyOVMknR2jvCFnUNaylQTUj/",
      "include_colab_link": true
    },
    "kernelspec": {
      "name": "python3",
      "display_name": "Python 3"
    },
    "language_info": {
      "name": "python"
    }
  },
  "cells": [
    {
      "cell_type": "markdown",
      "metadata": {
        "id": "view-in-github",
        "colab_type": "text"
      },
      "source": [
        "<a href=\"https://colab.research.google.com/github/DiCorzo/33-js-conceptos/blob/master/Copia_de_Untitled10.ipynb\" target=\"_parent\"><img src=\"https://colab.research.google.com/assets/colab-badge.svg\" alt=\"Open In Colab\"/></a>"
      ]
    },
    {
      "cell_type": "code",
      "execution_count": null,
      "metadata": {
        "colab": {
          "base_uri": "https://localhost:8080/"
        },
        "id": "jM5H1RLtGfce",
        "outputId": "f37140c7-80f7-49a9-96f1-f48d468fe23f"
      },
      "outputs": [
        {
          "output_type": "stream",
          "name": "stdout",
          "text": [
            "Librerías importadas correctamente.\n"
          ]
        }
      ],
      "source": [
        "import pandas as pd\n",
        "import numpy as np\n",
        "from datetime import datetime, timedelta\n",
        "import random\n",
        "\n",
        "print(\"Librerías importadas correctamente.\")\n"
      ]
    },
    {
      "cell_type": "code",
      "source": [
        "# --- 1. Datos de Clientes ---\n",
        "num_clientes = 1000\n",
        "clientes = {\n",
        "    'cliente_id': range(1, num_clientes + 1),\n",
        "    'edad': np.random.randint(15, 60, num_clientes),\n",
        "    'region': np.random.choice(['Norte', 'Sur', 'Este', 'Oeste', 'Centro'], num_clientes, p=[0.2, 0.2, 0.2, 0.2, 0.2]),\n",
        "    'tipo_cliente': np.random.choice(['Nuevo', 'Fiel', 'Ocasional', 'Inactivo'], num_clientes, p=[0.2, 0.4, 0.3, 0.1]),\n",
        "    'fecha_registro': [\n",
        "        (datetime.now() - timedelta(days=np.random.randint(30, 730))).strftime('%Y-%m-%d')\n",
        "        for _ in range(num_clientes)\n",
        "    ],\n",
        "    'email_valido': np.random.choice([True, False], num_clientes, p=[0.95, 0.05]) # Para simular datos sucios\n",
        "}\n",
        "df_clientes = pd.DataFrame(clientes)\n",
        "\n",
        "# --- 2. Datos de Productos (Videojuegos) ---\n",
        "num_productos = 200\n",
        "productos = {\n",
        "    'producto_id': range(1, num_productos + 1),\n",
        "    'nombre_juego': [f'Juego_{i}' for i in range(1, num_productos + 1)],\n",
        "    'genero': np.random.choice(['Acción', 'Aventura', 'RPG', 'Estrategia', 'Deportes', 'Simulación', 'Terror', 'Indie'], num_productos, p=[0.2, 0.15, 0.15, 0.1, 0.1, 0.1, 0.05, 0.15]),\n",
        "    'plataforma': np.random.choice(['PC', 'PlayStation', 'Xbox', 'Nintendo Switch'], num_productos, p=[0.4, 0.3, 0.2, 0.1]),\n",
        "    'precio': np.round(np.random.uniform(10, 70, num_productos), 2),\n",
        "    'tipo_edicion': np.random.choice(['Estándar', 'Deluxe', 'Gold'], num_productos, p=[0.7, 0.2, 0.1]),\n",
        "    'stock': np.random.randint(0, 500, num_productos) # Algunos juegos con 0 stock\n",
        "}\n",
        "df_productos = pd.DataFrame(productos)\n",
        "\n",
        "# --- 3. Datos de Transacciones (Pedidos) ---\n",
        "num_transacciones = 10000\n",
        "transacciones = {\n",
        "    'transaccion_id': range(1, num_transacciones + 1),\n",
        "    'cliente_id': np.random.choice(df_clientes['cliente_id'], num_transacciones, p=(1/np.power(np.arange(num_clientes) + 1, 1)).flatten()/np.sum(1/np.power(np.arange(num_clientes) + 1, 1))), # Clientes más bajos compran más\n",
        "    'fecha_compra': [\n",
        "        (datetime.now() - timedelta(days=np.random.randint(1, 365))).strftime('%Y-%m-%d')\n",
        "        for _ in range(num_transacciones)\n",
        "    ],\n",
        "    'metodo_pago': np.random.choice(['Tarjeta', 'PayPal', 'Transferencia'], num_transacciones, p=[0.6, 0.3, 0.1]),\n",
        "    'descuento_aplicado': np.round(np.random.uniform(0, 0.2, num_transacciones), 2)\n",
        "}\n",
        "df_transacciones = pd.DataFrame(transacciones)\n",
        "\n",
        "# --- 4. Datos de Detalle de Transacción (Productos en cada Pedido) ---\n",
        "detalle_transacciones = []\n",
        "for _ in range(num_transacciones):\n",
        "    transaccion_id = _ + 1\n",
        "    num_items = np.random.randint(1, 4) # Entre 1 y 3 juegos por transacción\n",
        "    for _ in range(num_items):\n",
        "        producto_id = np.random.choice(df_productos['producto_id'])\n",
        "        cantidad = np.random.randint(1, 3) # 1 o 2 copias del mismo juego\n",
        "        precio_unitario = df_productos[df_productos['producto_id'] == producto_id]['precio'].values[0]\n",
        "        detalle_transacciones.append({\n",
        "            'transaccion_id': transaccion_id,\n",
        "            'producto_id': producto_id,\n",
        "            'cantidad': cantidad,\n",
        "            'precio_unitario': precio_unitario\n",
        "        })\n",
        "df_detalle_transacciones = pd.DataFrame(detalle_transacciones)\n",
        "\n",
        "print(\"DataFrames (tablas) creados en memoria.\")"
      ],
      "metadata": {
        "colab": {
          "base_uri": "https://localhost:8080/"
        },
        "id": "_MqR6ClHG_CM",
        "outputId": "775b4314-0372-4621-d0d3-e09a48bbf6f7"
      },
      "execution_count": null,
      "outputs": [
        {
          "output_type": "stream",
          "name": "stdout",
          "text": [
            "DataFrames (tablas) creados en memoria.\n"
          ]
        }
      ]
    },
    {
      "cell_type": "code",
      "source": [
        "# Guardar los datos en CSV en el entorno de Colab\n",
        "df_clientes.to_csv('clientes.csv', index=False)\n",
        "df_productos.to_csv('productos.csv', index=False)\n",
        "df_transacciones.to_csv('transacciones.csv', index=False)\n",
        "df_detalle_transacciones.to_csv('detalle_transacciones.csv', index=False)\n",
        "\n",
        "print(\"\\nArchivos CSV guardados en el entorno de Colab.\")\n"
      ],
      "metadata": {
        "colab": {
          "base_uri": "https://localhost:8080/"
        },
        "id": "oAQWvn0WHlcS",
        "outputId": "57bbdadd-88bc-4980-a117-13f2683e0ff6"
      },
      "execution_count": null,
      "outputs": [
        {
          "output_type": "stream",
          "name": "stdout",
          "text": [
            "\n",
            "Archivos CSV guardados en el entorno de Colab.\n"
          ]
        }
      ]
    },
    {
      "cell_type": "code",
      "source": [
        "!ls\n"
      ],
      "metadata": {
        "colab": {
          "base_uri": "https://localhost:8080/"
        },
        "id": "d_AW7nu_K-lJ",
        "outputId": "55882088-b38e-434e-9346-0ca7d34a6733"
      },
      "execution_count": null,
      "outputs": [
        {
          "output_type": "stream",
          "name": "stdout",
          "text": [
            "clientes.csv\t\t   productos.csv  transacciones.csv\n",
            "detalle_transacciones.csv  sample_data\n"
          ]
        }
      ]
    },
    {
      "cell_type": "code",
      "source": [
        "# Cargar los datos desde los CSV que acabas de guardar\n",
        "df_clientes = pd.read_csv('clientes.csv')\n",
        "df_productos = pd.read_csv('productos.csv')\n",
        "df_transacciones = pd.read_csv('transacciones.csv')\n",
        "df_detalle_transacciones = pd.read_csv('detalle_transacciones.csv')\n",
        "\n",
        "print(\"--- DataFrames Cargados ---\")\n",
        "print(\"\\nClientes:\")\n",
        "print(df_clientes.head())\n",
        "print(\"\\nProductos:\")\n",
        "print(df_productos.head())\n",
        "print(\"\\nTransacciones:\")\n",
        "print(df_transacciones.head())\n",
        "print(\"\\nDetalle de Transacciones:\")\n",
        "print(df_detalle_transacciones.head())\n",
        "\n",
        "# Ver información básica de cada DataFrame\n",
        "print(\"\\n--- Información General ---\")\n",
        "print(\"\\nInfo df_clientes:\")\n",
        "df_clientes.info()\n",
        "print(\"\\nInfo df_productos:\")\n",
        "df_productos.info()\n",
        "print(\"\\nInfo df_transacciones:\")\n",
        "df_transacciones.info()\n",
        "print(\"\\nInfo df_detalle_transacciones:\")\n",
        "df_detalle_transacciones.info()\n",
        "\n",
        "# Estadísticas descriptivas de columnas numéricas\n",
        "print(\"\\n--- Estadísticas Descriptivas ---\")\n",
        "print(\"\\nDescribe df_clientes (edad):\")\n",
        "print(df_clientes['edad'].describe())\n",
        "print(\"\\nDescribe df_productos (precio):\")\n",
        "print(df_productos['precio'].describe())\n",
        "print(\"\\nDescribe df_detalle_transacciones (cantidad):\")\n",
        "print(df_detalle_transacciones['cantidad'].describe())\n"
      ],
      "metadata": {
        "colab": {
          "base_uri": "https://localhost:8080/"
        },
        "id": "6rOW2NPyLuaT",
        "outputId": "d62bc403-488b-448c-cccc-5361162c8b6f"
      },
      "execution_count": null,
      "outputs": [
        {
          "output_type": "stream",
          "name": "stdout",
          "text": [
            "--- DataFrames Cargados ---\n",
            "\n",
            "Clientes:\n",
            "   cliente_id  edad region tipo_cliente fecha_registro  email_valido\n",
            "0           1    34  Norte    Ocasional     2025-04-11          True\n",
            "1           2    43  Norte    Ocasional     2025-01-05          True\n",
            "2           3    39    Sur    Ocasional     2024-04-21          True\n",
            "3           4    38  Norte    Ocasional     2025-01-11          True\n",
            "4           5    21  Norte         Fiel     2024-12-16          True\n",
            "\n",
            "Productos:\n",
            "   producto_id nombre_juego      genero   plataforma  precio tipo_edicion  \\\n",
            "0            1      Juego_1  Simulación  PlayStation   24.51       Deluxe   \n",
            "1            2      Juego_2         RPG  PlayStation   56.26         Gold   \n",
            "2            3      Juego_3      Acción         Xbox   20.29         Gold   \n",
            "3            4      Juego_4       Indie           PC   69.04     Estándar   \n",
            "4            5      Juego_5      Acción  PlayStation   22.91     Estándar   \n",
            "\n",
            "   stock  \n",
            "0    135  \n",
            "1    401  \n",
            "2    421  \n",
            "3     80  \n",
            "4    112  \n",
            "\n",
            "Transacciones:\n",
            "   transaccion_id  cliente_id fecha_compra metodo_pago  descuento_aplicado\n",
            "0               1          17   2024-10-15     Tarjeta                0.06\n",
            "1               2          94   2024-06-30     Tarjeta                0.07\n",
            "2               3          98   2024-12-15     Tarjeta                0.18\n",
            "3               4         801   2024-06-06      PayPal                0.11\n",
            "4               5           3   2024-09-12     Tarjeta                0.04\n",
            "\n",
            "Detalle de Transacciones:\n",
            "   transaccion_id  producto_id  cantidad  precio_unitario\n",
            "0               1           61         2            32.63\n",
            "1               2           48         2            25.91\n",
            "2               2          144         1            42.95\n",
            "3               3          136         1            41.83\n",
            "4               3          155         1            27.50\n",
            "\n",
            "--- Información General ---\n",
            "\n",
            "Info df_clientes:\n",
            "<class 'pandas.core.frame.DataFrame'>\n",
            "RangeIndex: 1000 entries, 0 to 999\n",
            "Data columns (total 6 columns):\n",
            " #   Column          Non-Null Count  Dtype \n",
            "---  ------          --------------  ----- \n",
            " 0   cliente_id      1000 non-null   int64 \n",
            " 1   edad            1000 non-null   int64 \n",
            " 2   region          1000 non-null   object\n",
            " 3   tipo_cliente    1000 non-null   object\n",
            " 4   fecha_registro  1000 non-null   object\n",
            " 5   email_valido    1000 non-null   bool  \n",
            "dtypes: bool(1), int64(2), object(3)\n",
            "memory usage: 40.2+ KB\n",
            "\n",
            "Info df_productos:\n",
            "<class 'pandas.core.frame.DataFrame'>\n",
            "RangeIndex: 200 entries, 0 to 199\n",
            "Data columns (total 7 columns):\n",
            " #   Column        Non-Null Count  Dtype  \n",
            "---  ------        --------------  -----  \n",
            " 0   producto_id   200 non-null    int64  \n",
            " 1   nombre_juego  200 non-null    object \n",
            " 2   genero        200 non-null    object \n",
            " 3   plataforma    200 non-null    object \n",
            " 4   precio        200 non-null    float64\n",
            " 5   tipo_edicion  200 non-null    object \n",
            " 6   stock         200 non-null    int64  \n",
            "dtypes: float64(1), int64(2), object(4)\n",
            "memory usage: 11.1+ KB\n",
            "\n",
            "Info df_transacciones:\n",
            "<class 'pandas.core.frame.DataFrame'>\n",
            "RangeIndex: 10000 entries, 0 to 9999\n",
            "Data columns (total 5 columns):\n",
            " #   Column              Non-Null Count  Dtype  \n",
            "---  ------              --------------  -----  \n",
            " 0   transaccion_id      10000 non-null  int64  \n",
            " 1   cliente_id          10000 non-null  int64  \n",
            " 2   fecha_compra        10000 non-null  object \n",
            " 3   metodo_pago         10000 non-null  object \n",
            " 4   descuento_aplicado  10000 non-null  float64\n",
            "dtypes: float64(1), int64(2), object(2)\n",
            "memory usage: 390.8+ KB\n",
            "\n",
            "Info df_detalle_transacciones:\n",
            "<class 'pandas.core.frame.DataFrame'>\n",
            "RangeIndex: 19823 entries, 0 to 19822\n",
            "Data columns (total 4 columns):\n",
            " #   Column           Non-Null Count  Dtype  \n",
            "---  ------           --------------  -----  \n",
            " 0   transaccion_id   19823 non-null  int64  \n",
            " 1   producto_id      19823 non-null  int64  \n",
            " 2   cantidad         19823 non-null  int64  \n",
            " 3   precio_unitario  19823 non-null  float64\n",
            "dtypes: float64(1), int64(3)\n",
            "memory usage: 619.6 KB\n",
            "\n",
            "--- Estadísticas Descriptivas ---\n",
            "\n",
            "Describe df_clientes (edad):\n",
            "count    1000.000000\n",
            "mean       36.368000\n",
            "std        13.196315\n",
            "min        15.000000\n",
            "25%        25.000000\n",
            "50%        36.000000\n",
            "75%        48.000000\n",
            "max        59.000000\n",
            "Name: edad, dtype: float64\n",
            "\n",
            "Describe df_productos (precio):\n",
            "count    200.000000\n",
            "mean      39.641700\n",
            "std       17.834391\n",
            "min       10.820000\n",
            "25%       23.645000\n",
            "50%       39.095000\n",
            "75%       55.347500\n",
            "max       69.120000\n",
            "Name: precio, dtype: float64\n",
            "\n",
            "Describe df_detalle_transacciones (cantidad):\n",
            "count    19823.000000\n",
            "mean         1.496544\n",
            "std          0.500001\n",
            "min          1.000000\n",
            "25%          1.000000\n",
            "50%          1.000000\n",
            "75%          2.000000\n",
            "max          2.000000\n",
            "Name: cantidad, dtype: float64\n"
          ]
        }
      ]
    },
    {
      "cell_type": "code",
      "source": [
        "from google.colab import files\n",
        "files.download('clientes.csv')\n",
        "# Haz esto para cada archivo que quieras descargar\n"
      ],
      "metadata": {
        "colab": {
          "base_uri": "https://localhost:8080/",
          "height": 17
        },
        "id": "csoEw6WCMLUj",
        "outputId": "9fde83ab-4b8f-41de-f199-38db6c1c3a8d"
      },
      "execution_count": null,
      "outputs": [
        {
          "output_type": "display_data",
          "data": {
            "text/plain": [
              "<IPython.core.display.Javascript object>"
            ],
            "application/javascript": [
              "\n",
              "    async function download(id, filename, size) {\n",
              "      if (!google.colab.kernel.accessAllowed) {\n",
              "        return;\n",
              "      }\n",
              "      const div = document.createElement('div');\n",
              "      const label = document.createElement('label');\n",
              "      label.textContent = `Downloading \"${filename}\": `;\n",
              "      div.appendChild(label);\n",
              "      const progress = document.createElement('progress');\n",
              "      progress.max = size;\n",
              "      div.appendChild(progress);\n",
              "      document.body.appendChild(div);\n",
              "\n",
              "      const buffers = [];\n",
              "      let downloaded = 0;\n",
              "\n",
              "      const channel = await google.colab.kernel.comms.open(id);\n",
              "      // Send a message to notify the kernel that we're ready.\n",
              "      channel.send({})\n",
              "\n",
              "      for await (const message of channel.messages) {\n",
              "        // Send a message to notify the kernel that we're ready.\n",
              "        channel.send({})\n",
              "        if (message.buffers) {\n",
              "          for (const buffer of message.buffers) {\n",
              "            buffers.push(buffer);\n",
              "            downloaded += buffer.byteLength;\n",
              "            progress.value = downloaded;\n",
              "          }\n",
              "        }\n",
              "      }\n",
              "      const blob = new Blob(buffers, {type: 'application/binary'});\n",
              "      const a = document.createElement('a');\n",
              "      a.href = window.URL.createObjectURL(blob);\n",
              "      a.download = filename;\n",
              "      div.appendChild(a);\n",
              "      a.click();\n",
              "      div.remove();\n",
              "    }\n",
              "  "
            ]
          },
          "metadata": {}
        },
        {
          "output_type": "display_data",
          "data": {
            "text/plain": [
              "<IPython.core.display.Javascript object>"
            ],
            "application/javascript": [
              "download(\"download_2f99219d-1da5-45f2-b338-c63a0057f507\", \"clientes.csv\", 35641)"
            ]
          },
          "metadata": {}
        }
      ]
    },
    {
      "cell_type": "code",
      "source": [
        "from google.colab import files\n",
        "files.download('clientes.csv')\n",
        "\n",
        "from google.colab import files\n",
        "files.download('productos.csv')\n",
        "\n",
        "from google.colab import files\n",
        "files.download('transacciones.csv')\n",
        "\n",
        "from google.colab import files\n",
        "files.download('detalle_transacciones.csv')"
      ],
      "metadata": {
        "colab": {
          "base_uri": "https://localhost:8080/",
          "height": 17
        },
        "id": "dlRaxf9RMoNu",
        "outputId": "a1998377-45de-4304-9636-521f59534f84"
      },
      "execution_count": null,
      "outputs": [
        {
          "output_type": "display_data",
          "data": {
            "text/plain": [
              "<IPython.core.display.Javascript object>"
            ],
            "application/javascript": [
              "\n",
              "    async function download(id, filename, size) {\n",
              "      if (!google.colab.kernel.accessAllowed) {\n",
              "        return;\n",
              "      }\n",
              "      const div = document.createElement('div');\n",
              "      const label = document.createElement('label');\n",
              "      label.textContent = `Downloading \"${filename}\": `;\n",
              "      div.appendChild(label);\n",
              "      const progress = document.createElement('progress');\n",
              "      progress.max = size;\n",
              "      div.appendChild(progress);\n",
              "      document.body.appendChild(div);\n",
              "\n",
              "      const buffers = [];\n",
              "      let downloaded = 0;\n",
              "\n",
              "      const channel = await google.colab.kernel.comms.open(id);\n",
              "      // Send a message to notify the kernel that we're ready.\n",
              "      channel.send({})\n",
              "\n",
              "      for await (const message of channel.messages) {\n",
              "        // Send a message to notify the kernel that we're ready.\n",
              "        channel.send({})\n",
              "        if (message.buffers) {\n",
              "          for (const buffer of message.buffers) {\n",
              "            buffers.push(buffer);\n",
              "            downloaded += buffer.byteLength;\n",
              "            progress.value = downloaded;\n",
              "          }\n",
              "        }\n",
              "      }\n",
              "      const blob = new Blob(buffers, {type: 'application/binary'});\n",
              "      const a = document.createElement('a');\n",
              "      a.href = window.URL.createObjectURL(blob);\n",
              "      a.download = filename;\n",
              "      div.appendChild(a);\n",
              "      a.click();\n",
              "      div.remove();\n",
              "    }\n",
              "  "
            ]
          },
          "metadata": {}
        },
        {
          "output_type": "display_data",
          "data": {
            "text/plain": [
              "<IPython.core.display.Javascript object>"
            ],
            "application/javascript": [
              "download(\"download_0943660b-526a-42e2-b1d6-608e3d4452d8\", \"clientes.csv\", 35641)"
            ]
          },
          "metadata": {}
        },
        {
          "output_type": "display_data",
          "data": {
            "text/plain": [
              "<IPython.core.display.Javascript object>"
            ],
            "application/javascript": [
              "\n",
              "    async function download(id, filename, size) {\n",
              "      if (!google.colab.kernel.accessAllowed) {\n",
              "        return;\n",
              "      }\n",
              "      const div = document.createElement('div');\n",
              "      const label = document.createElement('label');\n",
              "      label.textContent = `Downloading \"${filename}\": `;\n",
              "      div.appendChild(label);\n",
              "      const progress = document.createElement('progress');\n",
              "      progress.max = size;\n",
              "      div.appendChild(progress);\n",
              "      document.body.appendChild(div);\n",
              "\n",
              "      const buffers = [];\n",
              "      let downloaded = 0;\n",
              "\n",
              "      const channel = await google.colab.kernel.comms.open(id);\n",
              "      // Send a message to notify the kernel that we're ready.\n",
              "      channel.send({})\n",
              "\n",
              "      for await (const message of channel.messages) {\n",
              "        // Send a message to notify the kernel that we're ready.\n",
              "        channel.send({})\n",
              "        if (message.buffers) {\n",
              "          for (const buffer of message.buffers) {\n",
              "            buffers.push(buffer);\n",
              "            downloaded += buffer.byteLength;\n",
              "            progress.value = downloaded;\n",
              "          }\n",
              "        }\n",
              "      }\n",
              "      const blob = new Blob(buffers, {type: 'application/binary'});\n",
              "      const a = document.createElement('a');\n",
              "      a.href = window.URL.createObjectURL(blob);\n",
              "      a.download = filename;\n",
              "      div.appendChild(a);\n",
              "      a.click();\n",
              "      div.remove();\n",
              "    }\n",
              "  "
            ]
          },
          "metadata": {}
        },
        {
          "output_type": "display_data",
          "data": {
            "text/plain": [
              "<IPython.core.display.Javascript object>"
            ],
            "application/javascript": [
              "download(\"download_3810f8e6-40f1-495b-8ca8-aec0f35d6e23\", \"productos.csv\", 9410)"
            ]
          },
          "metadata": {}
        },
        {
          "output_type": "display_data",
          "data": {
            "text/plain": [
              "<IPython.core.display.Javascript object>"
            ],
            "application/javascript": [
              "\n",
              "    async function download(id, filename, size) {\n",
              "      if (!google.colab.kernel.accessAllowed) {\n",
              "        return;\n",
              "      }\n",
              "      const div = document.createElement('div');\n",
              "      const label = document.createElement('label');\n",
              "      label.textContent = `Downloading \"${filename}\": `;\n",
              "      div.appendChild(label);\n",
              "      const progress = document.createElement('progress');\n",
              "      progress.max = size;\n",
              "      div.appendChild(progress);\n",
              "      document.body.appendChild(div);\n",
              "\n",
              "      const buffers = [];\n",
              "      let downloaded = 0;\n",
              "\n",
              "      const channel = await google.colab.kernel.comms.open(id);\n",
              "      // Send a message to notify the kernel that we're ready.\n",
              "      channel.send({})\n",
              "\n",
              "      for await (const message of channel.messages) {\n",
              "        // Send a message to notify the kernel that we're ready.\n",
              "        channel.send({})\n",
              "        if (message.buffers) {\n",
              "          for (const buffer of message.buffers) {\n",
              "            buffers.push(buffer);\n",
              "            downloaded += buffer.byteLength;\n",
              "            progress.value = downloaded;\n",
              "          }\n",
              "        }\n",
              "      }\n",
              "      const blob = new Blob(buffers, {type: 'application/binary'});\n",
              "      const a = document.createElement('a');\n",
              "      a.href = window.URL.createObjectURL(blob);\n",
              "      a.download = filename;\n",
              "      div.appendChild(a);\n",
              "      a.click();\n",
              "      div.remove();\n",
              "    }\n",
              "  "
            ]
          },
          "metadata": {}
        },
        {
          "output_type": "display_data",
          "data": {
            "text/plain": [
              "<IPython.core.display.Javascript object>"
            ],
            "application/javascript": [
              "download(\"download_a53b13b1-4669-4b09-8c60-29b620129216\", \"transacciones.csv\", 320201)"
            ]
          },
          "metadata": {}
        },
        {
          "output_type": "display_data",
          "data": {
            "text/plain": [
              "<IPython.core.display.Javascript object>"
            ],
            "application/javascript": [
              "\n",
              "    async function download(id, filename, size) {\n",
              "      if (!google.colab.kernel.accessAllowed) {\n",
              "        return;\n",
              "      }\n",
              "      const div = document.createElement('div');\n",
              "      const label = document.createElement('label');\n",
              "      label.textContent = `Downloading \"${filename}\": `;\n",
              "      div.appendChild(label);\n",
              "      const progress = document.createElement('progress');\n",
              "      progress.max = size;\n",
              "      div.appendChild(progress);\n",
              "      document.body.appendChild(div);\n",
              "\n",
              "      const buffers = [];\n",
              "      let downloaded = 0;\n",
              "\n",
              "      const channel = await google.colab.kernel.comms.open(id);\n",
              "      // Send a message to notify the kernel that we're ready.\n",
              "      channel.send({})\n",
              "\n",
              "      for await (const message of channel.messages) {\n",
              "        // Send a message to notify the kernel that we're ready.\n",
              "        channel.send({})\n",
              "        if (message.buffers) {\n",
              "          for (const buffer of message.buffers) {\n",
              "            buffers.push(buffer);\n",
              "            downloaded += buffer.byteLength;\n",
              "            progress.value = downloaded;\n",
              "          }\n",
              "        }\n",
              "      }\n",
              "      const blob = new Blob(buffers, {type: 'application/binary'});\n",
              "      const a = document.createElement('a');\n",
              "      a.href = window.URL.createObjectURL(blob);\n",
              "      a.download = filename;\n",
              "      div.appendChild(a);\n",
              "      a.click();\n",
              "      div.remove();\n",
              "    }\n",
              "  "
            ]
          },
          "metadata": {}
        },
        {
          "output_type": "display_data",
          "data": {
            "text/plain": [
              "<IPython.core.display.Javascript object>"
            ],
            "application/javascript": [
              "download(\"download_b53c996e-b124-45b4-9198-1a1abfb36a53\", \"detalle_transacciones.csv\", 322198)"
            ]
          },
          "metadata": {}
        }
      ]
    },
    {
      "cell_type": "code",
      "source": [
        "import pandas as pd\n",
        "import numpy as np # Necesario si generaste los datos sintéticos en la misma sesión\n",
        "from datetime import datetime, timedelta # Necesario si generaste los datos sintéticos en la misma sesión\n",
        "\n",
        "# Asegúrate de cargar los datos si no los tienes ya en memoria de una sesión anterior\n",
        "# Si tu sesión de Colab se reinició, ejecuta las celdas anteriores para recrear y guardar los CSVs.\n",
        "# Luego, carga los CSVs de nuevo:\n",
        "try:\n",
        "    df_clientes = pd.read_csv('clientes.csv')\n",
        "    df_productos = pd.read_csv('productos.csv')\n",
        "    df_transacciones = pd.read_csv('transacciones.csv')\n",
        "    df_detalle_transacciones = pd.read_csv('detalle_transacciones.csv')\n",
        "    print(\"DataFrames cargados exitosamente para la limpieza.\")\n",
        "except FileNotFoundError:\n",
        "    print(\"¡Error! Asegúrate de haber ejecutado las celdas anteriores para crear y guardar los archivos CSV.\")\n",
        "    print(\"Si los guardaste en Google Drive, ajusta la ruta de carga.\")\n",
        "\n",
        "print(\"\\n--- Paso 1: Conversión de Tipos de Datos ---\")\n",
        "\n",
        "# Convertir 'fecha_registro' en df_clientes a tipo datetime\n",
        "df_clientes['fecha_registro'] = pd.to_datetime(df_clientes['fecha_registro'])\n",
        "print(\"df_clientes['fecha_registro'] convertido a datetime.\")\n",
        "\n",
        "# Convertir 'fecha_compra' en df_transacciones a tipo datetime\n",
        "df_transacciones['fecha_compra'] = pd.to_datetime(df_transacciones['fecha_compra'])\n",
        "print(\"df_transacciones['fecha_compra'] convertido a datetime.\")\n",
        "\n",
        "print(\"\\nVerificando tipos de datos después de la conversión:\")\n",
        "print(\"Info df_clientes:\")\n",
        "df_clientes.info()\n",
        "print(\"\\nInfo df_transacciones:\")\n",
        "df_transacciones.info()\n"
      ],
      "metadata": {
        "colab": {
          "base_uri": "https://localhost:8080/"
        },
        "id": "R1oztHBjPkCm",
        "outputId": "36288867-c474-4905-9127-d824a32138b1"
      },
      "execution_count": null,
      "outputs": [
        {
          "output_type": "stream",
          "name": "stdout",
          "text": [
            "DataFrames cargados exitosamente para la limpieza.\n",
            "\n",
            "--- Paso 1: Conversión de Tipos de Datos ---\n",
            "df_clientes['fecha_registro'] convertido a datetime.\n",
            "df_transacciones['fecha_compra'] convertido a datetime.\n",
            "\n",
            "Verificando tipos de datos después de la conversión:\n",
            "Info df_clientes:\n",
            "<class 'pandas.core.frame.DataFrame'>\n",
            "RangeIndex: 1000 entries, 0 to 999\n",
            "Data columns (total 6 columns):\n",
            " #   Column          Non-Null Count  Dtype         \n",
            "---  ------          --------------  -----         \n",
            " 0   cliente_id      1000 non-null   int64         \n",
            " 1   edad            1000 non-null   int64         \n",
            " 2   region          1000 non-null   object        \n",
            " 3   tipo_cliente    1000 non-null   object        \n",
            " 4   fecha_registro  1000 non-null   datetime64[ns]\n",
            " 5   email_valido    1000 non-null   bool          \n",
            "dtypes: bool(1), datetime64[ns](1), int64(2), object(2)\n",
            "memory usage: 40.2+ KB\n",
            "\n",
            "Info df_transacciones:\n",
            "<class 'pandas.core.frame.DataFrame'>\n",
            "RangeIndex: 10000 entries, 0 to 9999\n",
            "Data columns (total 5 columns):\n",
            " #   Column              Non-Null Count  Dtype         \n",
            "---  ------              --------------  -----         \n",
            " 0   transaccion_id      10000 non-null  int64         \n",
            " 1   cliente_id          10000 non-null  int64         \n",
            " 2   fecha_compra        10000 non-null  datetime64[ns]\n",
            " 3   metodo_pago         10000 non-null  object        \n",
            " 4   descuento_aplicado  10000 non-null  float64       \n",
            "dtypes: datetime64[ns](1), float64(1), int64(2), object(1)\n",
            "memory usage: 390.8+ KB\n"
          ]
        }
      ]
    },
    {
      "cell_type": "code",
      "source": [
        "print(\"\\n--- Paso 2: Manejo de Valores Faltantes ---\")\n",
        "\n",
        "# Primero, veamos cuántos valores faltantes hay por columna en cada DataFrame\n",
        "print(\"\\nValores faltantes en df_clientes:\")\n",
        "print(df_clientes.isnull().sum())\n",
        "\n",
        "print(\"\\nValores faltantes en df_productos:\")\n",
        "print(df_productos.isnull().sum())\n",
        "\n",
        "print(\"\\nValores faltantes en df_transacciones:\")\n",
        "print(df_transacciones.isnull().sum())\n",
        "\n",
        "print(\"\\nValores faltantes en df_detalle_transacciones:\")\n",
        "print(df_detalle_transacciones.isnull().sum())\n",
        "\n",
        "# En este dataset simulado, verás que todos los conteos son 0, lo cual es ideal.\n",
        "# Pero, si tuvieras valores faltantes, estas serían algunas estrategias comunes:\n",
        "\n",
        "# Estrategia 1: Eliminar filas con valores faltantes (si son pocos y no críticos)\n",
        "# df_clientes_limpio = df_clientes.dropna(subset=['edad', 'region']) # Elimina filas si edad o region es NaN\n",
        "\n",
        "# Estrategia 2: Imputar (rellenar) valores faltantes\n",
        "# Para columnas numéricas: Rellenar con la media, mediana o un valor específico\n",
        "# df_clientes['edad'].fillna(df_clientes['edad'].median(), inplace=True)\n",
        "\n",
        "# Para columnas categóricas: Rellenar con la moda o una categoría 'Desconocido'\n",
        "# df_productos['genero'].fillna('Desconocido', inplace=True)\n",
        "\n",
        "print(\"\\nManejo de valores faltantes completado (no se encontraron NaNs en este dataset simulado).\")"
      ],
      "metadata": {
        "colab": {
          "base_uri": "https://localhost:8080/"
        },
        "id": "2TcmDt-qP_zS",
        "outputId": "85f2c8e3-e411-4a94-fb00-89d07b006383"
      },
      "execution_count": null,
      "outputs": [
        {
          "output_type": "stream",
          "name": "stdout",
          "text": [
            "\n",
            "--- Paso 2: Manejo de Valores Faltantes ---\n",
            "\n",
            "Valores faltantes en df_clientes:\n",
            "cliente_id        0\n",
            "edad              0\n",
            "region            0\n",
            "tipo_cliente      0\n",
            "fecha_registro    0\n",
            "email_valido      0\n",
            "dtype: int64\n",
            "\n",
            "Valores faltantes en df_productos:\n",
            "producto_id     0\n",
            "nombre_juego    0\n",
            "genero          0\n",
            "plataforma      0\n",
            "precio          0\n",
            "tipo_edicion    0\n",
            "stock           0\n",
            "dtype: int64\n",
            "\n",
            "Valores faltantes en df_transacciones:\n",
            "transaccion_id        0\n",
            "cliente_id            0\n",
            "fecha_compra          0\n",
            "metodo_pago           0\n",
            "descuento_aplicado    0\n",
            "dtype: int64\n",
            "\n",
            "Valores faltantes en df_detalle_transacciones:\n",
            "transaccion_id     0\n",
            "producto_id        0\n",
            "cantidad           0\n",
            "precio_unitario    0\n",
            "dtype: int64\n",
            "\n",
            "Manejo de valores faltantes completado (no se encontraron NaNs en este dataset simulado).\n"
          ]
        }
      ]
    },
    {
      "cell_type": "code",
      "source": [
        "print(\"\\n--- Paso 3: Manejo de Duplicados ---\")\n",
        "\n",
        "# Contar duplicados antes de eliminarlos\n",
        "print(f\"Duplicados en df_clientes (filas completas): {df_clientes.duplicated().sum()}\")\n",
        "print(f\"Duplicados en df_productos (filas completas): {df_productos.duplicated().sum()}\")\n",
        "print(f\"Duplicados en df_transacciones (filas completas): {df_transacciones.duplicated().sum()}\")\n",
        "print(f\"Duplicados en df_detalle_transacciones (filas completas): {df_detalle_transacciones.duplicated().sum()}\")\n",
        "\n",
        "# Eliminar duplicados (si existieran)\n",
        "# df_clientes.drop_duplicates(inplace=True)\n",
        "# df_productos.drop_duplicates(inplace=True)\n",
        "# df_transacciones.drop_duplicates(inplace=True)\n",
        "# df_detalle_transacciones.drop_duplicates(inplace=True)\n",
        "\n",
        "print(\"Manejo de duplicados completado (no se encontraron duplicados exactos en este dataset simulado).\")\n"
      ],
      "metadata": {
        "colab": {
          "base_uri": "https://localhost:8080/"
        },
        "id": "hus9OYMHQYgS",
        "outputId": "2e09d372-acd4-445b-9efd-595e63213c36"
      },
      "execution_count": null,
      "outputs": [
        {
          "output_type": "stream",
          "name": "stdout",
          "text": [
            "\n",
            "--- Paso 3: Manejo de Duplicados ---\n",
            "Duplicados en df_clientes (filas completas): 0\n",
            "Duplicados en df_productos (filas completas): 0\n",
            "Duplicados en df_transacciones (filas completas): 0\n",
            "Duplicados en df_detalle_transacciones (filas completas): 42\n",
            "Manejo de duplicados completado (no se encontraron duplicados exactos en este dataset simulado).\n"
          ]
        }
      ]
    },
    {
      "cell_type": "code",
      "source": [
        "print(\"\\n--- Paso 4: Consistencia y Estandarización de Datos ---\")\n",
        "\n",
        "# Estandarizar la columna 'region' en df_clientes: eliminar espacios y capitalizar\n",
        "print(f\"\\nRegiones únicas antes de estandarización: {df_clientes['region'].unique()}\")\n",
        "df_clientes['region'] = df_clientes['region'].str.strip().str.capitalize()\n",
        "print(f\"Regiones únicas después de estandarización: {df_clientes['region'].unique()}\")\n",
        "\n",
        "# Estandarizar 'genero' en df_productos\n",
        "print(f\"\\nGéneros únicos antes de estandarización: {df_productos['genero'].unique()}\")\n",
        "df_productos['genero'] = df_productos['genero'].str.strip().str.capitalize()\n",
        "print(f\"Géneros únicos después de estandarización: {df_productos['genero'].unique()}\")\n",
        "\n",
        "# Estandarizar 'metodo_pago' en df_transacciones\n",
        "print(f\"\\nMétodos de pago únicos antes de estandarización: {df_transacciones['metodo_pago'].unique()}\")\n",
        "df_transacciones['metodo_pago'] = df_transacciones['metodo_pago'].str.strip().str.capitalize()\n",
        "print(f\"Métodos de pago únicos después de estandarización: {df_transacciones['metodo_pago'].unique()}\")\n",
        "\n",
        "# Para 'email_valido', ya es un booleano (True/False). Si fuera 'Sí'/'No' o '1'/'0' en string, lo convertiríamos.\n",
        "# df_clientes['email_valido'] = df_clientes['email_valido'].map({'True': True, 'False': False}) # Ejemplo\n",
        "\n",
        "print(\"\\nEstandarización de datos completada.\")"
      ],
      "metadata": {
        "colab": {
          "base_uri": "https://localhost:8080/"
        },
        "id": "9vDlV75hQiKJ",
        "outputId": "736fa32e-4aa3-4559-b68d-4cda5f935036"
      },
      "execution_count": null,
      "outputs": [
        {
          "output_type": "stream",
          "name": "stdout",
          "text": [
            "\n",
            "--- Paso 4: Consistencia y Estandarización de Datos ---\n",
            "\n",
            "Regiones únicas antes de estandarización: ['Norte' 'Sur' 'Este' 'Centro' 'Oeste']\n",
            "Regiones únicas después de estandarización: ['Norte' 'Sur' 'Este' 'Centro' 'Oeste']\n",
            "\n",
            "Géneros únicos antes de estandarización: ['Simulación' 'RPG' 'Acción' 'Indie' 'Estrategia' 'Deportes' 'Aventura'\n",
            " 'Terror']\n",
            "Géneros únicos después de estandarización: ['Simulación' 'Rpg' 'Acción' 'Indie' 'Estrategia' 'Deportes' 'Aventura'\n",
            " 'Terror']\n",
            "\n",
            "Métodos de pago únicos antes de estandarización: ['Tarjeta' 'PayPal' 'Transferencia']\n",
            "Métodos de pago únicos después de estandarización: ['Tarjeta' 'Paypal' 'Transferencia']\n",
            "\n",
            "Estandarización de datos completada.\n"
          ]
        }
      ]
    },
    {
      "cell_type": "code",
      "source": [
        "print(\"\\n--- Paso 5: Integración de Datos (Joins/Merges) ---\")\n",
        "\n",
        "# 1. Unir df_detalle_transacciones con df_productos\n",
        "# Esto nos dará el nombre del juego, género, plataforma y otros detalles del producto por cada item vendido\n",
        "df_ventas = pd.merge(df_detalle_transacciones, df_productos, on='producto_id', how='left')\n",
        "print(\"\\nMerged df_detalle_transacciones with df_productos. Head:\")\n",
        "print(df_ventas.head())\n",
        "print(f\"Shape after merge 1: {df_ventas.shape}\")\n",
        "\n",
        "# 2. Unir el resultado (df_ventas) con df_transacciones\n",
        "# Esto nos dará la fecha de compra, cliente_id, método de pago y descuento por cada item vendido\n",
        "df_ventas = pd.merge(df_ventas, df_transacciones, on='transaccion_id', how='left')\n",
        "print(\"\\nMerged with df_transacciones. Head:\")\n",
        "print(df_ventas.head())\n",
        "print(f\"Shape after merge 2: {df_ventas.shape}\")\n",
        "\n",
        "# 3. Unir el resultado (df_ventas) con df_clientes\n",
        "# Esto nos dará la edad, región, tipo de cliente, etc., del cliente que realizó la compra\n",
        "df_ventas = pd.merge(df_ventas, df_clientes, on='cliente_id', how='left')\n",
        "print(\"\\nMerged with df_clientes. Head:\")\n",
        "print(df_ventas.head())\n",
        "print(f\"Shape after merge 3: {df_ventas.shape}\")\n",
        "\n",
        "print(\"\\nVerificando el DataFrame consolidado 'df_ventas':\")\n",
        "df_ventas.info()\n"
      ],
      "metadata": {
        "colab": {
          "base_uri": "https://localhost:8080/"
        },
        "id": "loGPUiPmQt0B",
        "outputId": "be717f26-4d71-44ca-fb7e-ead07357a9bb"
      },
      "execution_count": null,
      "outputs": [
        {
          "output_type": "stream",
          "name": "stdout",
          "text": [
            "\n",
            "--- Paso 5: Integración de Datos (Joins/Merges) ---\n",
            "\n",
            "Merged df_detalle_transacciones with df_productos. Head:\n",
            "   transaccion_id  producto_id  cantidad  precio_unitario nombre_juego  \\\n",
            "0               1           61         2            32.63     Juego_61   \n",
            "1               2           48         2            25.91     Juego_48   \n",
            "2               2          144         1            42.95    Juego_144   \n",
            "3               3          136         1            41.83    Juego_136   \n",
            "4               3          155         1            27.50    Juego_155   \n",
            "\n",
            "     genero       plataforma  precio tipo_edicion  stock  \n",
            "0    Acción  Nintendo Switch   32.63     Estándar    423  \n",
            "1  Aventura               PC   25.91     Estándar    454  \n",
            "2     Indie      PlayStation   42.95     Estándar     97  \n",
            "3  Deportes               PC   41.83     Estándar    299  \n",
            "4  Deportes               PC   27.50       Deluxe    475  \n",
            "Shape after merge 1: (19823, 10)\n",
            "\n",
            "Merged with df_transacciones. Head:\n",
            "   transaccion_id  producto_id  cantidad  precio_unitario nombre_juego  \\\n",
            "0               1           61         2            32.63     Juego_61   \n",
            "1               2           48         2            25.91     Juego_48   \n",
            "2               2          144         1            42.95    Juego_144   \n",
            "3               3          136         1            41.83    Juego_136   \n",
            "4               3          155         1            27.50    Juego_155   \n",
            "\n",
            "     genero       plataforma  precio tipo_edicion  stock  cliente_id  \\\n",
            "0    Acción  Nintendo Switch   32.63     Estándar    423          17   \n",
            "1  Aventura               PC   25.91     Estándar    454          94   \n",
            "2     Indie      PlayStation   42.95     Estándar     97          94   \n",
            "3  Deportes               PC   41.83     Estándar    299          98   \n",
            "4  Deportes               PC   27.50       Deluxe    475          98   \n",
            "\n",
            "  fecha_compra metodo_pago  descuento_aplicado  \n",
            "0   2024-10-15     Tarjeta                0.06  \n",
            "1   2024-06-30     Tarjeta                0.07  \n",
            "2   2024-06-30     Tarjeta                0.07  \n",
            "3   2024-12-15     Tarjeta                0.18  \n",
            "4   2024-12-15     Tarjeta                0.18  \n",
            "Shape after merge 2: (19823, 14)\n",
            "\n",
            "Merged with df_clientes. Head:\n",
            "   transaccion_id  producto_id  cantidad  precio_unitario nombre_juego  \\\n",
            "0               1           61         2            32.63     Juego_61   \n",
            "1               2           48         2            25.91     Juego_48   \n",
            "2               2          144         1            42.95    Juego_144   \n",
            "3               3          136         1            41.83    Juego_136   \n",
            "4               3          155         1            27.50    Juego_155   \n",
            "\n",
            "     genero       plataforma  precio tipo_edicion  stock  cliente_id  \\\n",
            "0    Acción  Nintendo Switch   32.63     Estándar    423          17   \n",
            "1  Aventura               PC   25.91     Estándar    454          94   \n",
            "2     Indie      PlayStation   42.95     Estándar     97          94   \n",
            "3  Deportes               PC   41.83     Estándar    299          98   \n",
            "4  Deportes               PC   27.50       Deluxe    475          98   \n",
            "\n",
            "  fecha_compra metodo_pago  descuento_aplicado  edad  region tipo_cliente  \\\n",
            "0   2024-10-15     Tarjeta                0.06    41   Norte         Fiel   \n",
            "1   2024-06-30     Tarjeta                0.07    21  Centro         Fiel   \n",
            "2   2024-06-30     Tarjeta                0.07    21  Centro         Fiel   \n",
            "3   2024-12-15     Tarjeta                0.18    29    Este         Fiel   \n",
            "4   2024-12-15     Tarjeta                0.18    29    Este         Fiel   \n",
            "\n",
            "  fecha_registro  email_valido  \n",
            "0     2023-09-15          True  \n",
            "1     2024-04-10          True  \n",
            "2     2024-04-10          True  \n",
            "3     2023-07-07          True  \n",
            "4     2023-07-07          True  \n",
            "Shape after merge 3: (19823, 19)\n",
            "\n",
            "Verificando el DataFrame consolidado 'df_ventas':\n",
            "<class 'pandas.core.frame.DataFrame'>\n",
            "RangeIndex: 19823 entries, 0 to 19822\n",
            "Data columns (total 19 columns):\n",
            " #   Column              Non-Null Count  Dtype         \n",
            "---  ------              --------------  -----         \n",
            " 0   transaccion_id      19823 non-null  int64         \n",
            " 1   producto_id         19823 non-null  int64         \n",
            " 2   cantidad            19823 non-null  int64         \n",
            " 3   precio_unitario     19823 non-null  float64       \n",
            " 4   nombre_juego        19823 non-null  object        \n",
            " 5   genero              19823 non-null  object        \n",
            " 6   plataforma          19823 non-null  object        \n",
            " 7   precio              19823 non-null  float64       \n",
            " 8   tipo_edicion        19823 non-null  object        \n",
            " 9   stock               19823 non-null  int64         \n",
            " 10  cliente_id          19823 non-null  int64         \n",
            " 11  fecha_compra        19823 non-null  datetime64[ns]\n",
            " 12  metodo_pago         19823 non-null  object        \n",
            " 13  descuento_aplicado  19823 non-null  float64       \n",
            " 14  edad                19823 non-null  int64         \n",
            " 15  region              19823 non-null  object        \n",
            " 16  tipo_cliente        19823 non-null  object        \n",
            " 17  fecha_registro      19823 non-null  datetime64[ns]\n",
            " 18  email_valido        19823 non-null  bool          \n",
            "dtypes: bool(1), datetime64[ns](2), float64(3), int64(6), object(7)\n",
            "memory usage: 2.7+ MB\n"
          ]
        }
      ]
    },
    {
      "cell_type": "code",
      "source": [
        "print(\"\\n--- Paso 6: Creación de Nuevas Características (Feature Engineering) ---\")\n",
        "\n",
        "# 1. Calcular el ingreso total por cada línea de pedido (cantidad * precio_unitario)\n",
        "df_ventas['ingreso_linea'] = df_ventas['cantidad'] * df_ventas['precio_unitario']\n",
        "print(\"\\n'ingreso_linea' calculado.\")\n",
        "\n",
        "# 2. Calcular el Ingreso Total de la Transacción (considerando el descuento aplicado a la transacción completa)\n",
        "# Esto requiere un paso adicional de agrupación.\n",
        "# Primero, sumamos los ingresos_linea por cada transaccion_id para obtener el subtotal de la transacción.\n",
        "subtotal_por_transaccion = df_ventas.groupby('transaccion_id')['ingreso_linea'].sum().reset_index()\n",
        "subtotal_por_transaccion.rename(columns={'ingreso_linea': 'subtotal_transaccion'}, inplace=True)\n",
        "\n",
        "# Luego, unimos este subtotal con df_transacciones para aplicar el descuento\n",
        "# Nota: Ya teníamos df_transacciones_full en el ejemplo anterior. Aquí lo creamos para el contexto.\n",
        "df_transacciones_con_subtotal = pd.merge(df_transacciones, subtotal_por_transaccion, on='transaccion_id', how='left')\n",
        "df_transacciones_con_subtotal['ingreso_total_transaccion'] = df_transacciones_con_subtotal['subtotal_transaccion'] * (1 - df_transacciones_con_subtotal['descuento_aplicado'])\n",
        "print(\"\\n'ingreso_total_transaccion' calculado en un DataFrame separado para resumen por transacción.\")\n",
        "\n",
        "# Opcional: Si necesitas el ingreso_total_transaccion en el df_ventas principal (línea por línea), puedes unirlo de nuevo:\n",
        "df_ventas = pd.merge(df_ventas, df_transacciones_con_subtotal[['transaccion_id', 'ingreso_total_transaccion']], on='transaccion_id', how='left')\n",
        "print(\"\\n'ingreso_total_transaccion' añadido a df_ventas.\")\n",
        "\n",
        "\n",
        "# 3. Extraer componentes de la fecha de compra para análisis temporal\n",
        "df_ventas['año_compra'] = df_ventas['fecha_compra'].dt.year\n",
        "df_ventas['mes_compra'] = df_ventas['fecha_compra'].dt.month\n",
        "df_ventas['dia_semana_compra'] = df_ventas['fecha_compra'].dt.day_name() # Nombre del día de la semana\n",
        "df_ventas['trimestre_compra'] = df_ventas['fecha_compra'].dt.quarter # Trimestre del año\n",
        "print(\"\\nCaracterísticas temporales (año, mes, día de la semana, trimestre) extraídas.\")\n",
        "\n",
        "# 4. Calcular la antigüedad del cliente (en días desde el registro hasta la compra)\n",
        "# Solo para clientes que han comprado (no para todos los registrados)\n",
        "df_ventas['antiguedad_cliente_dias'] = (df_ventas['fecha_compra'] - df_ventas['fecha_registro']).dt.days\n",
        "# Manejar casos donde fecha_compra < fecha_registro (posible error en datos o cliente registrado después de compra)\n",
        "df_ventas['antiguedad_cliente_dias'] = df_ventas['antiguedad_cliente_dias'].apply(lambda x: max(0, x))\n",
        "print(\"\\n'antiguedad_cliente_dias' calculado.\")\n",
        "\n",
        "# 5. Crear una característica de valor del pedido (ej. 'Alto', 'Medio', 'Bajo')\n",
        "# Basado en el ingreso_linea o ingreso_total_transaccion\n",
        "bins = [0, 20, 50, np.inf] # Define los umbrales\n",
        "labels = ['Bajo', 'Medio', 'Alto']\n",
        "df_ventas['valor_item_categoria'] = pd.cut(df_ventas['ingreso_linea'], bins=bins, labels=labels, right=False)\n",
        "print(\"\\n'valor_item_categoria' (categoría de valor del ítem) creado.\")\n",
        "\n",
        "\n",
        "print(\"\\nDataFrame 'df_ventas' con todas las características nuevas (primeras filas y algunas columnas clave):\")\n",
        "print(df_ventas[['transaccion_id', 'nombre_juego', 'genero', 'plataforma', 'fecha_compra',\n",
        "                 'ingreso_linea', 'ingreso_total_transaccion', 'año_compra', 'mes_compra',\n",
        "                 'dia_semana_compra', 'antiguedad_cliente_dias', 'valor_item_categoria']].head())\n",
        "print(\"\\nInformación final del DataFrame de ventas después de limpieza y feature engineering:\")\n",
        "df_ventas.info()\n"
      ],
      "metadata": {
        "colab": {
          "base_uri": "https://localhost:8080/"
        },
        "id": "d0eTrX1UQ7jQ",
        "outputId": "76cc5c1d-9121-45f7-f53d-30a1b2db924d"
      },
      "execution_count": null,
      "outputs": [
        {
          "output_type": "stream",
          "name": "stdout",
          "text": [
            "\n",
            "--- Paso 6: Creación de Nuevas Características (Feature Engineering) ---\n",
            "\n",
            "'ingreso_linea' calculado.\n",
            "\n",
            "'ingreso_total_transaccion' calculado en un DataFrame separado para resumen por transacción.\n",
            "\n",
            "'ingreso_total_transaccion' añadido a df_ventas.\n",
            "\n",
            "Características temporales (año, mes, día de la semana, trimestre) extraídas.\n",
            "\n",
            "'antiguedad_cliente_dias' calculado.\n",
            "\n",
            "'valor_item_categoria' (categoría de valor del ítem) creado.\n",
            "\n",
            "DataFrame 'df_ventas' con todas las características nuevas (primeras filas y algunas columnas clave):\n",
            "   transaccion_id nombre_juego    genero       plataforma fecha_compra  \\\n",
            "0               1     Juego_61    Acción  Nintendo Switch   2024-10-15   \n",
            "1               2     Juego_48  Aventura               PC   2024-06-30   \n",
            "2               2    Juego_144     Indie      PlayStation   2024-06-30   \n",
            "3               3    Juego_136  Deportes               PC   2024-12-15   \n",
            "4               3    Juego_155  Deportes               PC   2024-12-15   \n",
            "\n",
            "   ingreso_linea  ingreso_total_transaccion  año_compra  mes_compra  \\\n",
            "0          65.26                    61.3444        2024          10   \n",
            "1          51.82                    88.1361        2024           6   \n",
            "2          42.95                    88.1361        2024           6   \n",
            "3          41.83                    56.8506        2024          12   \n",
            "4          27.50                    56.8506        2024          12   \n",
            "\n",
            "  dia_semana_compra  antiguedad_cliente_dias valor_item_categoria  \n",
            "0           Tuesday                      396                 Alto  \n",
            "1            Sunday                       81                 Alto  \n",
            "2            Sunday                       81                Medio  \n",
            "3            Sunday                      527                Medio  \n",
            "4            Sunday                      527                Medio  \n",
            "\n",
            "Información final del DataFrame de ventas después de limpieza y feature engineering:\n",
            "<class 'pandas.core.frame.DataFrame'>\n",
            "RangeIndex: 19823 entries, 0 to 19822\n",
            "Data columns (total 27 columns):\n",
            " #   Column                     Non-Null Count  Dtype         \n",
            "---  ------                     --------------  -----         \n",
            " 0   transaccion_id             19823 non-null  int64         \n",
            " 1   producto_id                19823 non-null  int64         \n",
            " 2   cantidad                   19823 non-null  int64         \n",
            " 3   precio_unitario            19823 non-null  float64       \n",
            " 4   nombre_juego               19823 non-null  object        \n",
            " 5   genero                     19823 non-null  object        \n",
            " 6   plataforma                 19823 non-null  object        \n",
            " 7   precio                     19823 non-null  float64       \n",
            " 8   tipo_edicion               19823 non-null  object        \n",
            " 9   stock                      19823 non-null  int64         \n",
            " 10  cliente_id                 19823 non-null  int64         \n",
            " 11  fecha_compra               19823 non-null  datetime64[ns]\n",
            " 12  metodo_pago                19823 non-null  object        \n",
            " 13  descuento_aplicado         19823 non-null  float64       \n",
            " 14  edad                       19823 non-null  int64         \n",
            " 15  region                     19823 non-null  object        \n",
            " 16  tipo_cliente               19823 non-null  object        \n",
            " 17  fecha_registro             19823 non-null  datetime64[ns]\n",
            " 18  email_valido               19823 non-null  bool          \n",
            " 19  ingreso_linea              19823 non-null  float64       \n",
            " 20  ingreso_total_transaccion  19823 non-null  float64       \n",
            " 21  año_compra                 19823 non-null  int32         \n",
            " 22  mes_compra                 19823 non-null  int32         \n",
            " 23  dia_semana_compra          19823 non-null  object        \n",
            " 24  trimestre_compra           19823 non-null  int32         \n",
            " 25  antiguedad_cliente_dias    19823 non-null  int64         \n",
            " 26  valor_item_categoria       19823 non-null  category      \n",
            "dtypes: bool(1), category(1), datetime64[ns](2), float64(5), int32(3), int64(7), object(8)\n",
            "memory usage: 3.6+ MB\n"
          ]
        }
      ]
    },
    {
      "cell_type": "code",
      "source": [
        "from google.colab import files\n",
        "\n",
        "# Save the consolidated DataFrame to a CSV file\n",
        "df_ventas.to_csv('ventas.csv', index=False)\n",
        "\n",
        "files.download('ventas.csv')"
      ],
      "metadata": {
        "colab": {
          "base_uri": "https://localhost:8080/",
          "height": 17
        },
        "id": "OWOLGW_JSOIl",
        "outputId": "31a2ac04-1769-4f9f-c0a0-1816c09573c6"
      },
      "execution_count": null,
      "outputs": [
        {
          "output_type": "display_data",
          "data": {
            "text/plain": [
              "<IPython.core.display.Javascript object>"
            ],
            "application/javascript": [
              "\n",
              "    async function download(id, filename, size) {\n",
              "      if (!google.colab.kernel.accessAllowed) {\n",
              "        return;\n",
              "      }\n",
              "      const div = document.createElement('div');\n",
              "      const label = document.createElement('label');\n",
              "      label.textContent = `Downloading \"${filename}\": `;\n",
              "      div.appendChild(label);\n",
              "      const progress = document.createElement('progress');\n",
              "      progress.max = size;\n",
              "      div.appendChild(progress);\n",
              "      document.body.appendChild(div);\n",
              "\n",
              "      const buffers = [];\n",
              "      let downloaded = 0;\n",
              "\n",
              "      const channel = await google.colab.kernel.comms.open(id);\n",
              "      // Send a message to notify the kernel that we're ready.\n",
              "      channel.send({})\n",
              "\n",
              "      for await (const message of channel.messages) {\n",
              "        // Send a message to notify the kernel that we're ready.\n",
              "        channel.send({})\n",
              "        if (message.buffers) {\n",
              "          for (const buffer of message.buffers) {\n",
              "            buffers.push(buffer);\n",
              "            downloaded += buffer.byteLength;\n",
              "            progress.value = downloaded;\n",
              "          }\n",
              "        }\n",
              "      }\n",
              "      const blob = new Blob(buffers, {type: 'application/binary'});\n",
              "      const a = document.createElement('a');\n",
              "      a.href = window.URL.createObjectURL(blob);\n",
              "      a.download = filename;\n",
              "      div.appendChild(a);\n",
              "      a.click();\n",
              "      div.remove();\n",
              "    }\n",
              "  "
            ]
          },
          "metadata": {}
        },
        {
          "output_type": "display_data",
          "data": {
            "text/plain": [
              "<IPython.core.display.Javascript object>"
            ],
            "application/javascript": [
              "download(\"download_c243eec0-699b-4fdd-9f85-79d23087fd49\", \"ventas.csv\", 3236943)"
            ]
          },
          "metadata": {}
        }
      ]
    },
    {
      "cell_type": "code",
      "source": [
        "import matplotlib.pyplot as plt\n",
        "import seaborn as sns\n",
        "\n",
        "print(\"\\n--- Análisis de la Pregunta 1: Clientes Más Valiosos (RFM) ---\")\n",
        "\n",
        "# Para Recencia, necesitamos una fecha de referencia. Usamos la fecha de la última compra en el dataset + 1 día.\n",
        "fecha_referencia = df_transacciones['fecha_compra'].max() + timedelta(days=1)\n",
        "\n",
        "# Calcular Recencia, Frecuencia y Valor Monetario por cliente\n",
        "rfm = df_transacciones.groupby('cliente_id').agg(\n",
        "    recencia=('fecha_compra', lambda date: (fecha_referencia - date.max()).days), # Días desde la última compra\n",
        "    frecuencia=('transaccion_id', 'nunique') # Número de transacciones únicas\n",
        ").reset_index()\n",
        "\n",
        "# Calcular el valor monetario a partir de df_ventas (que ya tiene 'ingreso_linea')\n",
        "# Sumamos el ingreso total por cliente de todas las líneas de venta\n",
        "ingreso_por_cliente = df_ventas.groupby('cliente_id')['ingreso_linea'].sum().reset_index()\n",
        "ingreso_por_cliente.rename(columns={'ingreso_linea': 'valor_monetario'}, inplace=True)\n",
        "\n",
        "# Unir el valor monetario al DataFrame RFM\n",
        "rfm = pd.merge(rfm, ingreso_por_cliente, on='cliente_id', how='left')\n",
        "\n",
        "# Ver los 10 clientes con mayor valor monetario\n",
        "print(\"\\nTop 10 Clientes por Valor Monetario (más valiosos):\")\n",
        "print(rfm.sort_values(by='valor_monetario', ascending=False).head(10))\n",
        "\n",
        "# --- Visualizaciones RFM ---\n",
        "plt.figure(figsize=(18, 5))\n",
        "\n",
        "# Histograma de Recencia\n",
        "plt.subplot(1, 3, 1)\n",
        "sns.histplot(rfm['recencia'], bins=30, kde=True)\n",
        "plt.title('Distribución de Recencia (Días desde última compra)')\n",
        "plt.xlabel('Recencia (días)')\n",
        "plt.ylabel('Número de Clientes')\n",
        "\n",
        "# Histograma de Frecuencia\n",
        "plt.subplot(1, 3, 2)\n",
        "sns.histplot(rfm['frecuencia'], bins=30, kde=True)\n",
        "plt.title('Distribución de Frecuencia (Número de Compras)')\n",
        "plt.xlabel('Frecuencia')\n",
        "plt.ylabel('Número de Clientes')\n",
        "\n",
        "# Histograma de Valor Monetario\n",
        "plt.subplot(1, 3, 3)\n",
        "sns.histplot(rfm['valor_monetario'], bins=30, kde=True)\n",
        "plt.title('Distribución de Valor Monetario (Ingreso Total)')\n",
        "plt.xlabel('Valor Monetario ($)')\n",
        "plt.ylabel('Número de Clientes')\n",
        "\n",
        "plt.tight_layout()\n",
        "plt.show()\n",
        "\n",
        "# Insight Rápido:\n",
        "# Puedes segmentar a los clientes basándote en percentiles de RFM (ej. top 20% en cada métrica)\n",
        "# o usar técnicas de clustering (K-Means) para una segmentación más robusta.\n",
        "# Para este ejemplo, observa las colas de los histogramas: los pocos clientes con alta frecuencia/valor.\n",
        "print(\"\\nObservaciones RFM:\")\n",
        "print(f\"- La Recencia media es de {rfm['recencia'].mean():.0f} días. Muchos clientes tienen su última compra hace tiempo.\")\n",
        "print(f\"- La mayoría de los clientes tienen una Frecuencia baja (1 o 2 compras), lo que indica poca lealtad o compra de 'una sola vez'.\")\n",
        "print(f\"- El Valor Monetario está sesgado hacia la izquierda, con la mayoría de clientes gastando poco, y unos pocos 'grandes gastadores'.\")"
      ],
      "metadata": {
        "colab": {
          "base_uri": "https://localhost:8080/",
          "height": 640
        },
        "id": "eHvTEPpvWqOx",
        "outputId": "4f8ef0c3-a442-4dec-fbaf-0dc28f6078cb"
      },
      "execution_count": null,
      "outputs": [
        {
          "output_type": "stream",
          "name": "stdout",
          "text": [
            "\n",
            "--- Análisis de la Pregunta 1: Clientes Más Valiosos (RFM) ---\n",
            "\n",
            "Top 10 Clientes por Valor Monetario (más valiosos):\n",
            "   cliente_id  recencia  frecuencia  valor_monetario\n",
            "0           1         1        1281        150374.19\n",
            "1           2         1         655         76323.91\n",
            "2           3         1         460         50642.70\n",
            "3           4         1         328         38230.72\n",
            "4           5        10         281         31707.71\n",
            "5           6         1         218         24317.00\n",
            "6           7         2         181         22031.08\n",
            "7           8         1         177         18862.20\n",
            "8           9         4         147         17118.83\n",
            "9          10         1         133         16354.46\n"
          ]
        },
        {
          "output_type": "display_data",
          "data": {
            "text/plain": [
              "<Figure size 1800x500 with 3 Axes>"
            ],
            "image/png": "[encoded data removed]"
          },
          "metadata": {}
        },
        {
          "output_type": "stream",
          "name": "stdout",
          "text": [
            "\n",
            "Observaciones RFM:\n",
            "- La Recencia media es de 89 días. Muchos clientes tienen su última compra hace tiempo.\n",
            "- La mayoría de los clientes tienen una Frecuencia baja (1 o 2 compras), lo que indica poca lealtad o compra de 'una sola vez'.\n",
            "- El Valor Monetario está sesgado hacia la izquierda, con la mayoría de clientes gastando poco, y unos pocos 'grandes gastadores'.\n"
          ]
        }
      ]
    },
    {
      "cell_type": "code",
      "source": [
        "from google.colab import files\n",
        "\n",
        "# Save the consolidated DataFrame to a CSV file\n",
        "rfm.to_csv('rfm_analysis.csv', index=False)\n",
        "\n",
        "files.download('rfm_analysis.csv')"
      ],
      "metadata": {
        "colab": {
          "base_uri": "https://localhost:8080/",
          "height": 17
        },
        "id": "eH6GZ5mxXvHL",
        "outputId": "4ce1dee5-090a-40b8-b9df-772ff349b23f"
      },
      "execution_count": null,
      "outputs": [
        {
          "output_type": "display_data",
          "data": {
            "text/plain": [
              "<IPython.core.display.Javascript object>"
            ],
            "application/javascript": [
              "\n",
              "    async function download(id, filename, size) {\n",
              "      if (!google.colab.kernel.accessAllowed) {\n",
              "        return;\n",
              "      }\n",
              "      const div = document.createElement('div');\n",
              "      const label = document.createElement('label');\n",
              "      label.textContent = `Downloading \"${filename}\": `;\n",
              "      div.appendChild(label);\n",
              "      const progress = document.createElement('progress');\n",
              "      progress.max = size;\n",
              "      div.appendChild(progress);\n",
              "      document.body.appendChild(div);\n",
              "\n",
              "      const buffers = [];\n",
              "      let downloaded = 0;\n",
              "\n",
              "      const channel = await google.colab.kernel.comms.open(id);\n",
              "      // Send a message to notify the kernel that we're ready.\n",
              "      channel.send({})\n",
              "\n",
              "      for await (const message of channel.messages) {\n",
              "        // Send a message to notify the kernel that we're ready.\n",
              "        channel.send({})\n",
              "        if (message.buffers) {\n",
              "          for (const buffer of message.buffers) {\n",
              "            buffers.push(buffer);\n",
              "            downloaded += buffer.byteLength;\n",
              "            progress.value = downloaded;\n",
              "          }\n",
              "        }\n",
              "      }\n",
              "      const blob = new Blob(buffers, {type: 'application/binary'});\n",
              "      const a = document.createElement('a');\n",
              "      a.href = window.URL.createObjectURL(blob);\n",
              "      a.download = filename;\n",
              "      div.appendChild(a);\n",
              "      a.click();\n",
              "      div.remove();\n",
              "    }\n",
              "  "
            ]
          },
          "metadata": {}
        },
        {
          "output_type": "display_data",
          "data": {
            "text/plain": [
              "<IPython.core.display.Javascript object>"
            ],
            "application/javascript": [
              "download(\"download_29d6ca37-9860-46ce-a8f4-dab506dae019\", \"rfm_analysis.csv\", 15943)"
            ]
          },
          "metadata": {}
        }
      ]
    }
  ]
}